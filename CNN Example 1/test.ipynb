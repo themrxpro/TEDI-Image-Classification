{
 "cells": [
  {
   "cell_type": "code",
   "execution_count": 2,
   "metadata": {},
   "outputs": [
    {
     "ename": "KeyboardInterrupt",
     "evalue": "",
     "output_type": "error",
     "traceback": [
      "\u001b[1;31m---------------------------------------------------------------------------\u001b[0m",
      "\u001b[1;31mKeyboardInterrupt\u001b[0m                         Traceback (most recent call last)",
      "\u001b[1;32mf:\\OneDrive - Instituto Superior de Engenharia do Porto\\MEEC\\2A 2S TEDI\\TEDI - Image Classification\\CNN Example 1\\test.ipynb Cell 1'\u001b[0m in \u001b[0;36m<cell line: 14>\u001b[1;34m()\u001b[0m\n\u001b[0;32m      <a href='vscode-notebook-cell:/f%3A/OneDrive%20-%20Instituto%20Superior%20de%20Engenharia%20do%20Porto/MEEC/2A%202S%20TEDI/TEDI%20-%20Image%20Classification/CNN%20Example%201/test.ipynb#ch0000000?line=8'>9</a>\u001b[0m \u001b[39mfrom\u001b[39;00m \u001b[39mtensorflow\u001b[39;00m\u001b[39m.\u001b[39;00m\u001b[39mkeras\u001b[39;00m\u001b[39m.\u001b[39;00m\u001b[39mdatasets\u001b[39;00m \u001b[39mimport\u001b[39;00m cifar10\n\u001b[0;32m     <a href='vscode-notebook-cell:/f%3A/OneDrive%20-%20Instituto%20Superior%20de%20Engenharia%20do%20Porto/MEEC/2A%202S%20TEDI/TEDI%20-%20Image%20Classification/CNN%20Example%201/test.ipynb#ch0000000?line=12'>13</a>\u001b[0m NUM_CLASSES \u001b[39m=\u001b[39m \u001b[39m10\u001b[39m\n\u001b[1;32m---> <a href='vscode-notebook-cell:/f%3A/OneDrive%20-%20Instituto%20Superior%20de%20Engenharia%20do%20Porto/MEEC/2A%202S%20TEDI/TEDI%20-%20Image%20Classification/CNN%20Example%201/test.ipynb#ch0000000?line=13'>14</a>\u001b[0m (x_train, y_train), (x_test, y_test) \u001b[39m=\u001b[39m cifar10\u001b[39m.\u001b[39;49mload_data()\n\u001b[0;32m     <a href='vscode-notebook-cell:/f%3A/OneDrive%20-%20Instituto%20Superior%20de%20Engenharia%20do%20Porto/MEEC/2A%202S%20TEDI/TEDI%20-%20Image%20Classification/CNN%20Example%201/test.ipynb#ch0000000?line=14'>15</a>\u001b[0m x_train \u001b[39m=\u001b[39m x_train\u001b[39m.\u001b[39mastype(\u001b[39m'\u001b[39m\u001b[39mfloat32\u001b[39m\u001b[39m'\u001b[39m) \u001b[39m/\u001b[39m \u001b[39m255.0\u001b[39m\n\u001b[0;32m     <a href='vscode-notebook-cell:/f%3A/OneDrive%20-%20Instituto%20Superior%20de%20Engenharia%20do%20Porto/MEEC/2A%202S%20TEDI/TEDI%20-%20Image%20Classification/CNN%20Example%201/test.ipynb#ch0000000?line=15'>16</a>\u001b[0m x_test \u001b[39m=\u001b[39m x_test\u001b[39m.\u001b[39mastype(\u001b[39m'\u001b[39m\u001b[39mfloat32\u001b[39m\u001b[39m'\u001b[39m) \u001b[39m/\u001b[39m \u001b[39m255.0\u001b[39m\n",
      "File \u001b[1;32m~\\AppData\\Roaming\\Python\\Python310\\site-packages\\keras\\datasets\\cifar10.py:94\u001b[0m, in \u001b[0;36mload_data\u001b[1;34m()\u001b[0m\n\u001b[0;32m     <a href='file:///c%3A/Users/franc/AppData/Roaming/Python/Python310/site-packages/keras/datasets/cifar10.py?line=90'>91</a>\u001b[0m \u001b[39mfor\u001b[39;00m i \u001b[39min\u001b[39;00m \u001b[39mrange\u001b[39m(\u001b[39m1\u001b[39m, \u001b[39m6\u001b[39m):\n\u001b[0;32m     <a href='file:///c%3A/Users/franc/AppData/Roaming/Python/Python310/site-packages/keras/datasets/cifar10.py?line=91'>92</a>\u001b[0m   fpath \u001b[39m=\u001b[39m os\u001b[39m.\u001b[39mpath\u001b[39m.\u001b[39mjoin(path, \u001b[39m'\u001b[39m\u001b[39mdata_batch_\u001b[39m\u001b[39m'\u001b[39m \u001b[39m+\u001b[39m \u001b[39mstr\u001b[39m(i))\n\u001b[0;32m     <a href='file:///c%3A/Users/franc/AppData/Roaming/Python/Python310/site-packages/keras/datasets/cifar10.py?line=92'>93</a>\u001b[0m   (x_train[(i \u001b[39m-\u001b[39m \u001b[39m1\u001b[39m) \u001b[39m*\u001b[39m \u001b[39m10000\u001b[39m:i \u001b[39m*\u001b[39m \u001b[39m10000\u001b[39m, :, :, :],\n\u001b[1;32m---> <a href='file:///c%3A/Users/franc/AppData/Roaming/Python/Python310/site-packages/keras/datasets/cifar10.py?line=93'>94</a>\u001b[0m    y_train[(i \u001b[39m-\u001b[39m \u001b[39m1\u001b[39m) \u001b[39m*\u001b[39m \u001b[39m10000\u001b[39m:i \u001b[39m*\u001b[39m \u001b[39m10000\u001b[39m]) \u001b[39m=\u001b[39m load_batch(fpath)\n\u001b[0;32m     <a href='file:///c%3A/Users/franc/AppData/Roaming/Python/Python310/site-packages/keras/datasets/cifar10.py?line=95'>96</a>\u001b[0m fpath \u001b[39m=\u001b[39m os\u001b[39m.\u001b[39mpath\u001b[39m.\u001b[39mjoin(path, \u001b[39m'\u001b[39m\u001b[39mtest_batch\u001b[39m\u001b[39m'\u001b[39m)\n\u001b[0;32m     <a href='file:///c%3A/Users/franc/AppData/Roaming/Python/Python310/site-packages/keras/datasets/cifar10.py?line=96'>97</a>\u001b[0m x_test, y_test \u001b[39m=\u001b[39m load_batch(fpath)\n",
      "File \u001b[1;32m~\\AppData\\Roaming\\Python\\Python310\\site-packages\\keras\\datasets\\cifar.py:32\u001b[0m, in \u001b[0;36mload_batch\u001b[1;34m(fpath, label_key)\u001b[0m\n\u001b[0;32m     <a href='file:///c%3A/Users/franc/AppData/Roaming/Python/Python310/site-packages/keras/datasets/cifar.py?line=20'>21</a>\u001b[0m \u001b[39m\"\"\"Internal utility for parsing CIFAR data.\u001b[39;00m\n\u001b[0;32m     <a href='file:///c%3A/Users/franc/AppData/Roaming/Python/Python310/site-packages/keras/datasets/cifar.py?line=21'>22</a>\u001b[0m \n\u001b[0;32m     <a href='file:///c%3A/Users/franc/AppData/Roaming/Python/Python310/site-packages/keras/datasets/cifar.py?line=22'>23</a>\u001b[0m \u001b[39mArgs:\u001b[39;00m\n\u001b[1;32m   (...)\u001b[0m\n\u001b[0;32m     <a href='file:///c%3A/Users/franc/AppData/Roaming/Python/Python310/site-packages/keras/datasets/cifar.py?line=28'>29</a>\u001b[0m \u001b[39m    A tuple `(data, labels)`.\u001b[39;00m\n\u001b[0;32m     <a href='file:///c%3A/Users/franc/AppData/Roaming/Python/Python310/site-packages/keras/datasets/cifar.py?line=29'>30</a>\u001b[0m \u001b[39m\"\"\"\u001b[39;00m\n\u001b[0;32m     <a href='file:///c%3A/Users/franc/AppData/Roaming/Python/Python310/site-packages/keras/datasets/cifar.py?line=30'>31</a>\u001b[0m \u001b[39mwith\u001b[39;00m \u001b[39mopen\u001b[39m(fpath, \u001b[39m'\u001b[39m\u001b[39mrb\u001b[39m\u001b[39m'\u001b[39m) \u001b[39mas\u001b[39;00m f:\n\u001b[1;32m---> <a href='file:///c%3A/Users/franc/AppData/Roaming/Python/Python310/site-packages/keras/datasets/cifar.py?line=31'>32</a>\u001b[0m   d \u001b[39m=\u001b[39m cPickle\u001b[39m.\u001b[39;49mload(f, encoding\u001b[39m=\u001b[39;49m\u001b[39m'\u001b[39;49m\u001b[39mbytes\u001b[39;49m\u001b[39m'\u001b[39;49m)\n\u001b[0;32m     <a href='file:///c%3A/Users/franc/AppData/Roaming/Python/Python310/site-packages/keras/datasets/cifar.py?line=32'>33</a>\u001b[0m   \u001b[39m# decode utf8\u001b[39;00m\n\u001b[0;32m     <a href='file:///c%3A/Users/franc/AppData/Roaming/Python/Python310/site-packages/keras/datasets/cifar.py?line=33'>34</a>\u001b[0m   d_decoded \u001b[39m=\u001b[39m {}\n",
      "\u001b[1;31mKeyboardInterrupt\u001b[0m: "
     ]
    }
   ],
   "source": [
    "\n",
    "import numpy as np\n",
    "\n",
    "from tensorflow.keras.layers import Input, Flatten, Dense, Conv2D, BatchNormalization, LeakyReLU, Dropout, Activation\n",
    "from tensorflow.keras.models import Model\n",
    "from tensorflow.keras.optimizers import Adam\n",
    "from tensorflow.keras.utils import to_categorical\n",
    "import tensorflow.keras.backend as K \n",
    "\n",
    "from tensorflow.keras.datasets import cifar10\n",
    "\n",
    "\n",
    "\n",
    "NUM_CLASSES = 10\n",
    "(x_train, y_train), (x_test, y_test) = cifar10.load_data()\n",
    "x_train = x_train.astype('float32') / 255.0\n",
    "x_test = x_test.astype('float32') / 255.0\n",
    "y_train = to_categorical(y_train, NUM_CLASSES)\n",
    "y_test = to_categorical(y_test, NUM_CLASSES)\n",
    "\n",
    "\n",
    "\n",
    "input_layer = Input((32,32,3))\n",
    "\n",
    "x = Conv2D(filters = 32, kernel_size = 3, strides = 1, padding = 'same')(input_layer)\n",
    "x = BatchNormalization()(x)\n",
    "x = LeakyReLU()(x)\n",
    "\n",
    "\n",
    "x = Conv2D(filters = 32, kernel_size = 3, strides = 2, padding = 'same')(x)\n",
    "x = BatchNormalization()(x)\n",
    "x = LeakyReLU()(x)\n",
    "\n",
    "\n",
    "x = Conv2D(filters = 64, kernel_size = 3, strides = 1, padding = 'same')(x)\n",
    "x = BatchNormalization()(x)\n",
    "x = LeakyReLU()(x)\n",
    "\n",
    "\n",
    "x = Conv2D(filters = 64, kernel_size = 3, strides = 2, padding = 'same')(x)\n",
    "x = BatchNormalization()(x)\n",
    "x = LeakyReLU()(x)\n",
    "\n",
    "\n",
    "x = Flatten()(x)\n",
    "\n",
    "x = Dense(128)(x)\n",
    "x = BatchNormalization()(x)\n",
    "x = LeakyReLU()(x)\n",
    "x = Dropout(rate = 0.5)(x)\n",
    "\n",
    "x = Dense(NUM_CLASSES)(x)\n",
    "output_layer = Activation('softmax')(x)\n",
    "\n",
    "model = Model(input_layer, output_layer)\n",
    "\n",
    "opt = Adam(lr=0.0005)\n",
    "model.compile(loss='categorical_crossentropy', optimizer=opt, metrics=['accuracy'])\n",
    "\n",
    "model.fit(x_train\n",
    "          , y_train\n",
    "          , batch_size=32\n",
    "          , epochs=10\n",
    "          , shuffle=True\n",
    "          , validation_data = (x_test, y_test))"
   ]
  }
 ],
 "metadata": {
  "interpreter": {
   "hash": "26de051ba29f2982a8de78e945f0abaf191376122a1563185a90213a26c5da77"
  },
  "kernelspec": {
   "display_name": "Python 3.10.1 64-bit",
   "language": "python",
   "name": "python3"
  },
  "language_info": {
   "codemirror_mode": {
    "name": "ipython",
    "version": 3
   },
   "file_extension": ".py",
   "mimetype": "text/x-python",
   "name": "python",
   "nbconvert_exporter": "python",
   "pygments_lexer": "ipython3",
   "version": "3.10.1"
  },
  "orig_nbformat": 4
 },
 "nbformat": 4,
 "nbformat_minor": 2
}
