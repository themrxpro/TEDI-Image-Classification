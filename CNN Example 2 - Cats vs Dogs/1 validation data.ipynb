{
 "cells": [
  {
   "cell_type": "code",
   "execution_count": 5,
   "metadata": {},
   "outputs": [
    {
     "name": "stdout",
     "output_type": "stream",
     "text": [
      "Spliting Data\n"
     ]
    }
   ],
   "source": [
    "import os\n",
    "import shutil\n",
    "\n",
    "src_folder = r'.\\dogs-vs-cats\\train\\train'\n",
    "f_train = r'.\\dogs-vs-cats\\train\\train'\n",
    "f_val = r'.\\dogs-vs-cats\\train\\validation'\n",
    "\n",
    "\n",
    "print('Spliting Data')\n",
    "\n",
    "files = os.listdir(src_folder)\n",
    "i=1\n",
    "os.mkdir(f_val + r'\\cats')\n",
    "os.mkdir(f_val + r'\\dogs')\n",
    "os.mkdir(f_train + r'\\cats')\n",
    "os.mkdir(f_train + r'\\dogs')\n"
   ]
  },
  {
   "cell_type": "code",
   "execution_count": 6,
   "metadata": {},
   "outputs": [
    {
     "name": "stdout",
     "output_type": "stream",
     "text": [
      "Done !\n"
     ]
    }
   ],
   "source": [
    "for file in files:\n",
    "    src_path = os.path.abspath(os.path.join(src_folder,file))\n",
    "    \n",
    "    #train        \n",
    "    if i != 4:\n",
    "        if file.startswith('cat'):\n",
    "            dst_path = os.path.abspath(os.path.join(f_train + r'\\cats',file))\n",
    "        else:\n",
    "            dst_path = os.path.abspath(os.path.join(f_train + r'\\dogs',file))\n",
    "        i+=1\n",
    "    #validation\n",
    "    else:\n",
    "        if file.startswith('cat'):\n",
    "            dst_path = os.path.abspath(os.path.join(f_val + r'\\cats',file))\n",
    "        else:\n",
    "            dst_path = os.path.abspath(os.path.join(f_val + r'\\dogs',file))\n",
    "        i=1\n",
    "    \n",
    "    \n",
    "    shutil.move(src_path,dst_path)\n",
    "        \n",
    "print('Done !')"
   ]
  }
 ],
 "metadata": {
  "kernelspec": {
   "display_name": "Python 3.10.1 64-bit",
   "language": "python",
   "name": "python3"
  },
  "language_info": {
   "codemirror_mode": {
    "name": "ipython",
    "version": 3
   },
   "file_extension": ".py",
   "mimetype": "text/x-python",
   "name": "python",
   "nbconvert_exporter": "python",
   "pygments_lexer": "ipython3",
   "version": "3.10.1"
  },
  "orig_nbformat": 4,
  "vscode": {
   "interpreter": {
    "hash": "26de051ba29f2982a8de78e945f0abaf191376122a1563185a90213a26c5da77"
   }
  }
 },
 "nbformat": 4,
 "nbformat_minor": 2
}
