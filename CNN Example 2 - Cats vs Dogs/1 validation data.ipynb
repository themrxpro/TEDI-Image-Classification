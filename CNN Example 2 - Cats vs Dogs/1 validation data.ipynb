{
 "cells": [
  {
   "cell_type": "code",
   "execution_count": 1,
   "metadata": {},
   "outputs": [
    {
     "name": "stdout",
     "output_type": "stream",
     "text": [
      "Validation Data already set !\n"
     ]
    }
   ],
   "source": [
    "import os\n",
    "import shutil\n",
    "\n",
    "src_folder = r\".\\dogs-vs-cats\\train\\train\"\n",
    "dst_folder = r\".\\dogs-vs-cats\\train\\validation\"\n",
    "\n",
    "if os.path.isdir(dst_folder):\n",
    "    print(\"Validation Data already set !\")\n",
    "else:\n",
    "    print(\"Spliting Data\")\n",
    "    os.mkdir(dst_folder)\n",
    "    files = os.listdir(src_folder)\n",
    "    split = files[::4]\n",
    "    for file in split:\n",
    "        src_path = os.path.abspath(os.path.join(src_folder,file))\n",
    "        dst_path = os.path.abspath(os.path.join(dst_folder,file))\n",
    "        shutil.move(src_path,dst_path)\n",
    "    print(\"Done !\")"
   ]
  }
 ],
 "metadata": {
  "kernelspec": {
   "display_name": "Python 3.10.1 64-bit",
   "language": "python",
   "name": "python3"
  },
  "language_info": {
   "codemirror_mode": {
    "name": "ipython",
    "version": 3
   },
   "file_extension": ".py",
   "mimetype": "text/x-python",
   "name": "python",
   "nbconvert_exporter": "python",
   "pygments_lexer": "ipython3",
   "version": "3.10.1"
  },
  "orig_nbformat": 4,
  "vscode": {
   "interpreter": {
    "hash": "26de051ba29f2982a8de78e945f0abaf191376122a1563185a90213a26c5da77"
   }
  }
 },
 "nbformat": 4,
 "nbformat_minor": 2
}
