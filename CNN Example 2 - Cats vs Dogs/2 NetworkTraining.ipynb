{
 "cells": [
  {
   "cell_type": "code",
   "execution_count": 11,
   "metadata": {},
   "outputs": [],
   "source": [
    "import tensorflow as tf"
   ]
  },
  {
   "cell_type": "code",
   "execution_count": 12,
   "metadata": {},
   "outputs": [],
   "source": [
    "# VGG baseline model\n",
    "\n",
    "# Very Deep Convolutional Networks for Large-Scale Image Recognition\n",
    "# https://arxiv.org/abs/1409.1556\n",
    "\n",
    "#model initialization\n",
    "model = tf.keras.Sequential(\n",
    "    [\n",
    "        # stacking convolutional layers with small 3×3 filters followed by a max pooling layer\n",
    "        # block 1\n",
    "        tf.keras.layers.Conv2D(32, (3, 3), activation='relu', kernel_initializer='he_uniform', padding='same', input_shape=(200, 200, 3)),\n",
    "        tf.keras.layers.MaxPooling2D((2, 2)),\n",
    "        # block 2\n",
    "        tf.keras.layers.Conv2D(64, (3, 3), activation='relu', kernel_initializer='he_uniform', padding='same'),\n",
    "        tf.keras.layers.MaxPooling2D((2, 2)),\n",
    "        # block 3\n",
    "        tf.keras.layers.Conv2D(64, (3, 3), activation='relu', kernel_initializer='he_uniform', padding='same'),\n",
    "        tf.keras.layers.MaxPooling2D((2, 2)),\n",
    "        #\n",
    "        tf.keras.layers.Flatten(),\n",
    "        tf.keras.layers.Dense(128, activation='relu', kernel_initializer='he_uniform'),\n",
    "        tf.keras.layers.Dense(1, activation='sigmoid')\n",
    "    ]\n",
    ")\n",
    "optimizer = tf.keras.optimizers.SGD(learning_rate=0.001, momentum=0.9)\n",
    "model.compile(optimizer=optimizer, loss='binary_crossentropy', metrics=['accuracy'])"
   ]
  },
  {
   "cell_type": "code",
   "execution_count": 13,
   "metadata": {},
   "outputs": [
    {
     "name": "stdout",
     "output_type": "stream",
     "text": [
      "Found 18750 images belonging to 2 classes.\n",
      "Found 6250 images belonging to 2 classes.\n"
     ]
    }
   ],
   "source": [
    "\n",
    "BATCH_SIZE = 128\n",
    "\n",
    "datagen = tf.keras.preprocessing.image.ImageDataGenerator(rescale=1./255)\n",
    "train_it = datagen.flow_from_directory(r'.\\dogs-vs-cats\\train\\train',\n",
    "    class_mode='binary', batch_size=BATCH_SIZE, target_size=(200, 200))\n",
    "test_it = datagen.flow_from_directory(r'.\\dogs-vs-cats\\train\\validation',\n",
    "    class_mode='binary', batch_size=BATCH_SIZE, target_size=(200, 200))"
   ]
  },
  {
   "cell_type": "code",
   "execution_count": 14,
   "metadata": {},
   "outputs": [
    {
     "name": "stdout",
     "output_type": "stream",
     "text": [
      "147/147 [==============================] - 43s 285ms/step - loss: 0.6705 - accuracy: 0.5797 - val_loss: 0.6343 - val_accuracy: 0.6400\n",
      "INFO:tensorflow:Assets written to: ram://c249be99-495d-4c3d-a281-5e6c57cc5f93/assets\n"
     ]
    }
   ],
   "source": [
    "import pickle\n",
    "i=1\n",
    "\n",
    "history = model.fit(train_it, steps_per_epoch=len(train_it),\n",
    "\t\tvalidation_data=test_it, validation_steps=len(test_it), epochs=1, verbose=1)\n",
    "\n",
    "filename = 'model_epoch_{i}.pickle'.format(i=i)\n",
    "\n",
    "with open(filename, 'wb') as handle:\n",
    "    pickle.dump(model, handle)\n"
   ]
  },
  {
   "cell_type": "code",
   "execution_count": 16,
   "metadata": {},
   "outputs": [
    {
     "name": "stdout",
     "output_type": "stream",
     "text": [
      "147/147 [==============================] - 42s 285ms/step - loss: 0.5960 - accuracy: 0.6762 - val_loss: 0.5887 - val_accuracy: 0.6784\n",
      "INFO:tensorflow:Assets written to: ram://d6404ca4-155d-40c6-b633-0831099bb117/assets\n"
     ]
    }
   ],
   "source": [
    "history = model.fit(train_it, steps_per_epoch=len(train_it),\n",
    "\t\tvalidation_data=test_it, validation_steps=len(test_it), epochs=1, verbose=1)\n",
    "\n",
    "i=2\n",
    "filename = 'model_epoch_{i}.pickle'.format(i=i)\n",
    "with open(filename, 'wb') as handle:\n",
    "    pickle.dump(model, handle)"
   ]
  },
  {
   "cell_type": "code",
   "execution_count": 17,
   "metadata": {},
   "outputs": [
    {
     "name": "stdout",
     "output_type": "stream",
     "text": [
      "147/147 [==============================] - 41s 280ms/step - loss: 0.5708 - accuracy: 0.6959 - val_loss: 0.5853 - val_accuracy: 0.6790\n",
      "INFO:tensorflow:Assets written to: ram://d16c7ad0-a27c-4963-ad6e-e4044c1ef06e/assets\n"
     ]
    }
   ],
   "source": [
    "history = model.fit(train_it, steps_per_epoch=len(train_it),\n",
    "\t\tvalidation_data=test_it, validation_steps=len(test_it), epochs=1, verbose=1)\n",
    "\n",
    "i=3\n",
    "filename = 'model_epoch_{i}.pickle'.format(i=i)\n",
    "with open(filename, 'wb') as handle:\n",
    "    pickle.dump(model, handle)"
   ]
  },
  {
   "cell_type": "code",
   "execution_count": 18,
   "metadata": {},
   "outputs": [
    {
     "name": "stdout",
     "output_type": "stream",
     "text": [
      "147/147 [==============================] - 41s 280ms/step - loss: 0.5493 - accuracy: 0.7205 - val_loss: 0.5548 - val_accuracy: 0.7128\n",
      "INFO:tensorflow:Assets written to: ram://3956da0e-b4fc-4fc4-902b-ec4b69df3482/assets\n"
     ]
    }
   ],
   "source": [
    "history = model.fit(train_it, steps_per_epoch=len(train_it),\n",
    "\t\tvalidation_data=test_it, validation_steps=len(test_it), epochs=1, verbose=1)\n",
    "\n",
    "i=4\n",
    "filename = 'model_epoch_{i}.pickle'.format(i=i)\n",
    "with open(filename, 'wb') as handle:\n",
    "    pickle.dump(model, handle)"
   ]
  },
  {
   "cell_type": "code",
   "execution_count": 19,
   "metadata": {},
   "outputs": [
    {
     "name": "stdout",
     "output_type": "stream",
     "text": [
      "147/147 [==============================] - 41s 280ms/step - loss: 0.5196 - accuracy: 0.7420 - val_loss: 0.5368 - val_accuracy: 0.7330\n",
      "INFO:tensorflow:Assets written to: ram://c8d65c20-00a8-4d87-a051-150946ff245b/assets\n"
     ]
    }
   ],
   "source": [
    "history = model.fit(train_it, steps_per_epoch=len(train_it),\n",
    "\t\tvalidation_data=test_it, validation_steps=len(test_it), epochs=1, verbose=1)\n",
    "\n",
    "i=5\n",
    "filename = 'model_epoch_{i}.pickle'.format(i=i)\n",
    "with open(filename, 'wb') as handle:\n",
    "    pickle.dump(model, handle)"
   ]
  },
  {
   "cell_type": "code",
   "execution_count": 20,
   "metadata": {},
   "outputs": [
    {
     "name": "stdout",
     "output_type": "stream",
     "text": [
      "147/147 [==============================] - 41s 280ms/step - loss: 0.5032 - accuracy: 0.7573 - val_loss: 0.5983 - val_accuracy: 0.6886\n",
      "INFO:tensorflow:Assets written to: ram://9ce9b93e-5dc9-4fc2-9f6e-64d9a266c6d3/assets\n"
     ]
    }
   ],
   "source": [
    "history = model.fit(train_it, steps_per_epoch=len(train_it),\n",
    "\t\tvalidation_data=test_it, validation_steps=len(test_it), epochs=1, verbose=1)\n",
    "\n",
    "i=6\n",
    "filename = 'model_epoch_{i}.pickle'.format(i=i)\n",
    "with open(filename, 'wb') as handle:\n",
    "    pickle.dump(model, handle)"
   ]
  },
  {
   "cell_type": "code",
   "execution_count": 21,
   "metadata": {},
   "outputs": [
    {
     "name": "stdout",
     "output_type": "stream",
     "text": [
      "147/147 [==============================] - 41s 280ms/step - loss: 0.4898 - accuracy: 0.7663 - val_loss: 0.5061 - val_accuracy: 0.7549\n",
      "INFO:tensorflow:Assets written to: ram://beecdba8-19f8-4aef-8d93-1945af60e0d7/assets\n"
     ]
    }
   ],
   "source": [
    "history = model.fit(train_it, steps_per_epoch=len(train_it),\n",
    "\t\tvalidation_data=test_it, validation_steps=len(test_it), epochs=1, verbose=1)\n",
    "\n",
    "i=7\n",
    "filename = 'model_epoch_{i}.pickle'.format(i=i)\n",
    "with open(filename, 'wb') as handle:\n",
    "    pickle.dump(model, handle)"
   ]
  },
  {
   "cell_type": "code",
   "execution_count": 22,
   "metadata": {},
   "outputs": [
    {
     "name": "stdout",
     "output_type": "stream",
     "text": [
      "147/147 [==============================] - 42s 281ms/step - loss: 0.4698 - accuracy: 0.7798 - val_loss: 0.5091 - val_accuracy: 0.7550\n",
      "INFO:tensorflow:Assets written to: ram://0dc3bc9d-c78e-4ab2-a16f-4530acdb747d/assets\n"
     ]
    }
   ],
   "source": [
    "history = model.fit(train_it, steps_per_epoch=len(train_it),\n",
    "\t\tvalidation_data=test_it, validation_steps=len(test_it), epochs=1, verbose=1)\n",
    "\n",
    "i=8\n",
    "filename = 'model_epoch_{i}.pickle'.format(i=i)\n",
    "with open(filename, 'wb') as handle:\n",
    "    pickle.dump(model, handle)"
   ]
  },
  {
   "cell_type": "code",
   "execution_count": 23,
   "metadata": {},
   "outputs": [
    {
     "name": "stdout",
     "output_type": "stream",
     "text": [
      "147/147 [==============================] - 41s 280ms/step - loss: 0.4552 - accuracy: 0.7881 - val_loss: 0.4910 - val_accuracy: 0.7624\n",
      "INFO:tensorflow:Assets written to: ram://b4f5cfc5-9b49-40eb-82b2-87a51d8f9495/assets\n"
     ]
    }
   ],
   "source": [
    "history = model.fit(train_it, steps_per_epoch=len(train_it),\n",
    "\t\tvalidation_data=test_it, validation_steps=len(test_it), epochs=1, verbose=1)\n",
    "\n",
    "i=9\n",
    "filename = 'model_epoch_{i}.pickle'.format(i=i)\n",
    "with open(filename, 'wb') as handle:\n",
    "    pickle.dump(model, handle)"
   ]
  },
  {
   "cell_type": "code",
   "execution_count": 24,
   "metadata": {},
   "outputs": [
    {
     "name": "stdout",
     "output_type": "stream",
     "text": [
      "147/147 [==============================] - 41s 281ms/step - loss: 0.4432 - accuracy: 0.7949 - val_loss: 0.4840 - val_accuracy: 0.7685\n",
      "INFO:tensorflow:Assets written to: ram://e8bc1eef-8a0f-465f-b76e-5b5a62dc0fb1/assets\n"
     ]
    }
   ],
   "source": [
    "history = model.fit(train_it, steps_per_epoch=len(train_it),\n",
    "\t\tvalidation_data=test_it, validation_steps=len(test_it), epochs=1, verbose=1)\n",
    "\n",
    "i=10\n",
    "filename = 'model_epoch_{i}.pickle'.format(i=i)\n",
    "with open(filename, 'wb') as handle:\n",
    "    pickle.dump(model, handle)"
   ]
  },
  {
   "cell_type": "code",
   "execution_count": 25,
   "metadata": {},
   "outputs": [
    {
     "name": "stdout",
     "output_type": "stream",
     "text": [
      "147/147 [==============================] - 42s 284ms/step - loss: 0.4253 - accuracy: 0.8076 - val_loss: 0.4979 - val_accuracy: 0.7581\n",
      "INFO:tensorflow:Assets written to: ram://493a91d0-29ee-40aa-970f-a4133bffa8fe/assets\n"
     ]
    }
   ],
   "source": [
    "history = model.fit(train_it, steps_per_epoch=len(train_it),\n",
    "\t\tvalidation_data=test_it, validation_steps=len(test_it), epochs=1, verbose=1)\n",
    "\n",
    "i=11\n",
    "filename = 'model_epoch_{i}.pickle'.format(i=i)\n",
    "with open(filename, 'wb') as handle:\n",
    "    pickle.dump(model, handle)"
   ]
  },
  {
   "cell_type": "code",
   "execution_count": 26,
   "metadata": {},
   "outputs": [
    {
     "name": "stdout",
     "output_type": "stream",
     "text": [
      "147/147 [==============================] - 41s 280ms/step - loss: 0.4121 - accuracy: 0.8170 - val_loss: 0.4794 - val_accuracy: 0.7746\n",
      "INFO:tensorflow:Assets written to: ram://aeea8bfa-1ccf-457d-929b-e09125e2fc37/assets\n"
     ]
    }
   ],
   "source": [
    "history = model.fit(train_it, steps_per_epoch=len(train_it),\n",
    "\t\tvalidation_data=test_it, validation_steps=len(test_it), epochs=1, verbose=1)\n",
    "\n",
    "i=12\n",
    "filename = 'model_epoch_{i}.pickle'.format(i=i)\n",
    "with open(filename, 'wb') as handle:\n",
    "    pickle.dump(model, handle)"
   ]
  },
  {
   "cell_type": "code",
   "execution_count": 27,
   "metadata": {},
   "outputs": [
    {
     "name": "stdout",
     "output_type": "stream",
     "text": [
      "147/147 [==============================] - 41s 280ms/step - loss: 0.4030 - accuracy: 0.8210 - val_loss: 0.4865 - val_accuracy: 0.7659\n",
      "INFO:tensorflow:Assets written to: ram://bc4ee1da-91f5-425a-bc31-4f5b2b983a68/assets\n"
     ]
    }
   ],
   "source": [
    "history = model.fit(train_it, steps_per_epoch=len(train_it),\n",
    "\t\tvalidation_data=test_it, validation_steps=len(test_it), epochs=1, verbose=1)\n",
    "\n",
    "i=13\n",
    "filename = 'model_epoch_{i}.pickle'.format(i=i)\n",
    "with open(filename, 'wb') as handle:\n",
    "    pickle.dump(model, handle)"
   ]
  },
  {
   "cell_type": "code",
   "execution_count": 28,
   "metadata": {},
   "outputs": [
    {
     "name": "stdout",
     "output_type": "stream",
     "text": [
      "147/147 [==============================] - 41s 280ms/step - loss: 0.3843 - accuracy: 0.8318 - val_loss: 0.4800 - val_accuracy: 0.7746\n",
      "INFO:tensorflow:Assets written to: ram://06cabc22-4341-4788-afb7-4e7c43106344/assets\n"
     ]
    }
   ],
   "source": [
    "history = model.fit(train_it, steps_per_epoch=len(train_it),\n",
    "\t\tvalidation_data=test_it, validation_steps=len(test_it), epochs=1, verbose=1)\n",
    "\n",
    "i=14\n",
    "filename = 'model_epoch_{i}.pickle'.format(i=i)\n",
    "with open(filename, 'wb') as handle:\n",
    "    pickle.dump(model, handle)"
   ]
  },
  {
   "cell_type": "code",
   "execution_count": 29,
   "metadata": {},
   "outputs": [
    {
     "name": "stdout",
     "output_type": "stream",
     "text": [
      "147/147 [==============================] - 41s 280ms/step - loss: 0.3759 - accuracy: 0.8350 - val_loss: 0.4616 - val_accuracy: 0.7816\n",
      "INFO:tensorflow:Assets written to: ram://12247d31-4941-4ef9-8277-b302c064f831/assets\n"
     ]
    }
   ],
   "source": [
    "history = model.fit(train_it, steps_per_epoch=len(train_it),\n",
    "\t\tvalidation_data=test_it, validation_steps=len(test_it), epochs=1, verbose=1)\n",
    "\n",
    "i=15\n",
    "filename = 'model_epoch_{i}.pickle'.format(i=i)\n",
    "with open(filename, 'wb') as handle:\n",
    "    pickle.dump(model, handle)"
   ]
  },
  {
   "cell_type": "code",
   "execution_count": 30,
   "metadata": {},
   "outputs": [
    {
     "name": "stdout",
     "output_type": "stream",
     "text": [
      "147/147 [==============================] - 41s 280ms/step - loss: 0.3577 - accuracy: 0.8429 - val_loss: 0.4874 - val_accuracy: 0.7758\n",
      "INFO:tensorflow:Assets written to: ram://ee386f64-267f-4880-8beb-7350031fce1b/assets\n"
     ]
    }
   ],
   "source": [
    "history = model.fit(train_it, steps_per_epoch=len(train_it),\n",
    "\t\tvalidation_data=test_it, validation_steps=len(test_it), epochs=1, verbose=1)\n",
    "\n",
    "i=16\n",
    "filename = 'model_epoch_{i}.pickle'.format(i=i)\n",
    "with open(filename, 'wb') as handle:\n",
    "    pickle.dump(model, handle)"
   ]
  },
  {
   "cell_type": "code",
   "execution_count": 31,
   "metadata": {},
   "outputs": [
    {
     "name": "stdout",
     "output_type": "stream",
     "text": [
      "147/147 [==============================] - 41s 280ms/step - loss: 0.3415 - accuracy: 0.8551 - val_loss: 0.4614 - val_accuracy: 0.7834\n",
      "INFO:tensorflow:Assets written to: ram://74ac9d8c-a989-4d39-a2ad-16da7c911b77/assets\n"
     ]
    }
   ],
   "source": [
    "history = model.fit(train_it, steps_per_epoch=len(train_it),\n",
    "\t\tvalidation_data=test_it, validation_steps=len(test_it), epochs=1, verbose=1)\n",
    "\n",
    "i=17\n",
    "filename = 'model_epoch_{i}.pickle'.format(i=i)\n",
    "with open(filename, 'wb') as handle:\n",
    "    pickle.dump(model, handle)"
   ]
  },
  {
   "cell_type": "code",
   "execution_count": 32,
   "metadata": {},
   "outputs": [
    {
     "name": "stdout",
     "output_type": "stream",
     "text": [
      "147/147 [==============================] - 41s 280ms/step - loss: 0.3302 - accuracy: 0.8589 - val_loss: 0.4605 - val_accuracy: 0.7875\n",
      "INFO:tensorflow:Assets written to: ram://6583df94-3654-446d-bc16-85c70b99b6d5/assets\n"
     ]
    }
   ],
   "source": [
    "history = model.fit(train_it, steps_per_epoch=len(train_it),\n",
    "\t\tvalidation_data=test_it, validation_steps=len(test_it), epochs=1, verbose=1)\n",
    "\n",
    "i=18\n",
    "filename = 'model_epoch_{i}.pickle'.format(i=i)\n",
    "with open(filename, 'wb') as handle:\n",
    "    pickle.dump(model, handle)"
   ]
  },
  {
   "cell_type": "code",
   "execution_count": 33,
   "metadata": {},
   "outputs": [
    {
     "name": "stdout",
     "output_type": "stream",
     "text": [
      "147/147 [==============================] - 41s 280ms/step - loss: 0.3166 - accuracy: 0.8666 - val_loss: 0.4613 - val_accuracy: 0.7867\n",
      "INFO:tensorflow:Assets written to: ram://4413e0ec-8519-4a94-9449-f566f74c0ada/assets\n"
     ]
    }
   ],
   "source": [
    "history = model.fit(train_it, steps_per_epoch=len(train_it),\n",
    "\t\tvalidation_data=test_it, validation_steps=len(test_it), epochs=1, verbose=1)\n",
    "\n",
    "i=19\n",
    "filename = 'model_epoch_{i}.pickle'.format(i=i)\n",
    "with open(filename, 'wb') as handle:\n",
    "    pickle.dump(model, handle)"
   ]
  },
  {
   "cell_type": "code",
   "execution_count": 34,
   "metadata": {},
   "outputs": [
    {
     "name": "stdout",
     "output_type": "stream",
     "text": [
      "147/147 [==============================] - 42s 281ms/step - loss: 0.3051 - accuracy: 0.8717 - val_loss: 0.4583 - val_accuracy: 0.7925\n",
      "INFO:tensorflow:Assets written to: ram://3515f32f-8e6e-4a6c-b62d-ee1925e10619/assets\n"
     ]
    }
   ],
   "source": [
    "history = model.fit(train_it, steps_per_epoch=len(train_it),\n",
    "\t\tvalidation_data=test_it, validation_steps=len(test_it), epochs=1, verbose=1)\n",
    "\n",
    "i=20\n",
    "filename = 'model_epoch_{i}.pickle'.format(i=i)\n",
    "with open(filename, 'wb') as handle:\n",
    "    pickle.dump(model, handle)"
   ]
  }
 ],
 "metadata": {
  "kernelspec": {
   "display_name": "Python 3.10.1 64-bit",
   "language": "python",
   "name": "python3"
  },
  "language_info": {
   "codemirror_mode": {
    "name": "ipython",
    "version": 3
   },
   "file_extension": ".py",
   "mimetype": "text/x-python",
   "name": "python",
   "nbconvert_exporter": "python",
   "pygments_lexer": "ipython3",
   "version": "3.10.1"
  },
  "orig_nbformat": 4,
  "vscode": {
   "interpreter": {
    "hash": "26de051ba29f2982a8de78e945f0abaf191376122a1563185a90213a26c5da77"
   }
  }
 },
 "nbformat": 4,
 "nbformat_minor": 2
}
