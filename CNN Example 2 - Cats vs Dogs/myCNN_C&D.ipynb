{
 "cells": [
  {
   "cell_type": "code",
   "execution_count": 17,
   "metadata": {},
   "outputs": [
    {
     "ename": "ImportError",
     "evalue": "cannot import name 'SGD' from 'keras.optimizers' (C:\\Users\\franc\\AppData\\Roaming\\Python\\Python310\\site-packages\\keras\\optimizers.py)",
     "output_type": "error",
     "traceback": [
      "\u001b[1;31m---------------------------------------------------------------------------\u001b[0m",
      "\u001b[1;31mImportError\u001b[0m                               Traceback (most recent call last)",
      "\u001b[1;32mf:\\OneDrive - Instituto Superior de Engenharia do Porto\\6 - MEEC\\2A 2S TEDI\\TEDI - Image Classification\\CNN Example 2 - Cats vs Dogs\\machinelearningmastery.ipynb Cell 1\u001b[0m in \u001b[0;36m<cell line: 6>\u001b[1;34m()\u001b[0m\n\u001b[0;32m      <a href='vscode-notebook-cell:/f%3A/OneDrive%20-%20Instituto%20Superior%20de%20Engenharia%20do%20Porto/6%20-%20MEEC/2A%202S%20TEDI/TEDI%20-%20Image%20Classification/CNN%20Example%202%20-%20Cats%20vs%20Dogs/machinelearningmastery.ipynb#W0sZmlsZQ%3D%3D?line=3'>4</a>\u001b[0m \u001b[39mfrom\u001b[39;00m \u001b[39mmatplotlib\u001b[39;00m \u001b[39mimport\u001b[39;00m pyplot\n\u001b[0;32m      <a href='vscode-notebook-cell:/f%3A/OneDrive%20-%20Instituto%20Superior%20de%20Engenharia%20do%20Porto/6%20-%20MEEC/2A%202S%20TEDI/TEDI%20-%20Image%20Classification/CNN%20Example%202%20-%20Cats%20vs%20Dogs/machinelearningmastery.ipynb#W0sZmlsZQ%3D%3D?line=4'>5</a>\u001b[0m \u001b[39mfrom\u001b[39;00m \u001b[39mkeras\u001b[39;00m\u001b[39m.\u001b[39;00m\u001b[39mapplications\u001b[39;00m\u001b[39m.\u001b[39;00m\u001b[39mvgg16\u001b[39;00m \u001b[39mimport\u001b[39;00m VGG16\n\u001b[1;32m----> <a href='vscode-notebook-cell:/f%3A/OneDrive%20-%20Instituto%20Superior%20de%20Engenharia%20do%20Porto/6%20-%20MEEC/2A%202S%20TEDI/TEDI%20-%20Image%20Classification/CNN%20Example%202%20-%20Cats%20vs%20Dogs/machinelearningmastery.ipynb#W0sZmlsZQ%3D%3D?line=5'>6</a>\u001b[0m \u001b[39mfrom\u001b[39;00m \u001b[39mkeras\u001b[39;00m\u001b[39m.\u001b[39;00m\u001b[39moptimizers\u001b[39;00m \u001b[39mimport\u001b[39;00m SGD\n\u001b[0;32m      <a href='vscode-notebook-cell:/f%3A/OneDrive%20-%20Instituto%20Superior%20de%20Engenharia%20do%20Porto/6%20-%20MEEC/2A%202S%20TEDI/TEDI%20-%20Image%20Classification/CNN%20Example%202%20-%20Cats%20vs%20Dogs/machinelearningmastery.ipynb#W0sZmlsZQ%3D%3D?line=6'>7</a>\u001b[0m \u001b[39mfrom\u001b[39;00m \u001b[39mkeras\u001b[39;00m\u001b[39m.\u001b[39;00m\u001b[39mmodels\u001b[39;00m \u001b[39mimport\u001b[39;00m Model\n\u001b[0;32m      <a href='vscode-notebook-cell:/f%3A/OneDrive%20-%20Instituto%20Superior%20de%20Engenharia%20do%20Porto/6%20-%20MEEC/2A%202S%20TEDI/TEDI%20-%20Image%20Classification/CNN%20Example%202%20-%20Cats%20vs%20Dogs/machinelearningmastery.ipynb#W0sZmlsZQ%3D%3D?line=7'>8</a>\u001b[0m \u001b[39mfrom\u001b[39;00m \u001b[39mkeras\u001b[39;00m\u001b[39m.\u001b[39;00m\u001b[39mlayers\u001b[39;00m \u001b[39mimport\u001b[39;00m Dense\n",
      "\u001b[1;31mImportError\u001b[0m: cannot import name 'SGD' from 'keras.optimizers' (C:\\Users\\franc\\AppData\\Roaming\\Python\\Python310\\site-packages\\keras\\optimizers.py)"
     ]
    }
   ],
   "source": [
    "# vgg16 model used for transfer learning on the dogs and cats dataset\n",
    "import sys \n",
    "import keras \n",
    "from matplotlib import pyplot\n",
    "from keras.applications.vgg16 import VGG16\n",
    "from keras.optimizers import SGD\n",
    "from keras.models import Model\n",
    "from keras.layers import Dense\n",
    "from keras.layers import Flatten\n",
    "from keras.preprocessing.image import ImageDataGenerator\n",
    " \n"
   ]
  },
  {
   "cell_type": "code",
   "execution_count": 11,
   "metadata": {},
   "outputs": [],
   "source": [
    "# define cnn model\n",
    "def define_model():\n",
    "\t# load model\n",
    "\tmodel = VGG16(include_top=False, input_shape=(224, 224, 3))\n",
    "\t# mark loaded layers as not trainable\n",
    "\tfor layer in model.layers:\n",
    "\t\tlayer.trainable = False\n",
    "\t# add new classifier layers\n",
    "\tflat1 = Flatten()(model.layers[-1].output)\n",
    "\tclass1 = Dense(128, activation='relu', kernel_initializer='he_uniform')(flat1)\n",
    "\toutput = Dense(1, activation='sigmoid')(class1)\n",
    "\t# define new model\n",
    "\tmodel = Model(inputs=model.inputs, outputs=output)\n",
    "\t# compile model\n",
    "\topt = keras.optimizers.SGD(lr=0.001, momentum=0.9)\n",
    "\tmodel.compile(optimizer=opt, loss='binary_crossentropy', metrics=['accuracy'])\n",
    "\treturn model\n",
    " \n"
   ]
  },
  {
   "cell_type": "code",
   "execution_count": 12,
   "metadata": {},
   "outputs": [],
   "source": [
    "# plot diagnostic learning curves\n",
    "def summarize_diagnostics(history):\n",
    "\t# plot loss\n",
    "\tpyplot.subplot(211)\n",
    "\tpyplot.title('Cross Entropy Loss')\n",
    "\tpyplot.plot(history.history['loss'], color='blue', label='train')\n",
    "\tpyplot.plot(history.history['val_loss'], color='orange', label='test')\n",
    "\t# plot accuracy\n",
    "\tpyplot.subplot(212)\n",
    "\tpyplot.title('Classification Accuracy')\n",
    "\tpyplot.plot(history.history['accuracy'], color='blue', label='train')\n",
    "\tpyplot.plot(history.history['val_accuracy'], color='orange', label='test')\n",
    "\t# save plot to file\n",
    "\tfilename = sys.argv[0].split('/')[-1]\n",
    "\tpyplot.savefig(filename + '_plot.png')\n",
    "\tpyplot.close()\n",
    " \n"
   ]
  },
  {
   "cell_type": "code",
   "execution_count": 13,
   "metadata": {},
   "outputs": [],
   "source": [
    "# run the test harness for evaluating a model\n",
    "def run_test_harness():\n",
    "\t# define model\n",
    "\tmodel = define_model()\n",
    "\t# create data generator\n",
    "\tdatagen = ImageDataGenerator(featurewise_center=True)\n",
    "\t# specify imagenet mean values for centering\n",
    "\tdatagen.mean = [123.68, 116.779, 103.939]\n",
    "\t# prepare iterator\n",
    "\ttrain_it = datagen.flow_from_directory('dataset_dogs_vs_cats/train/',\n",
    "\t\tclass_mode='binary', batch_size=64, target_size=(224, 224))\n",
    "\ttest_it = datagen.flow_from_directory('dataset_dogs_vs_cats/test/',\n",
    "\t\tclass_mode='binary', batch_size=64, target_size=(224, 224))\n",
    "\t# fit model\n",
    "\thistory = model.fit_generator(train_it, steps_per_epoch=len(train_it),\n",
    "\t\tvalidation_data=test_it, validation_steps=len(test_it), epochs=10, verbose=1)\n",
    "\t# evaluate model\n",
    "\t_, acc = model.evaluate_generator(test_it, steps=len(test_it), verbose=0)\n",
    "\tprint('> %.3f' % (acc * 100.0))\n",
    "\t# learning curves\n",
    "\tsummarize_diagnostics(history)\n"
   ]
  },
  {
   "cell_type": "code",
   "execution_count": 15,
   "metadata": {},
   "outputs": [
    {
     "ename": "NameError",
     "evalue": "name 'tf' is not defined",
     "output_type": "error",
     "traceback": [
      "\u001b[1;31m---------------------------------------------------------------------------\u001b[0m",
      "\u001b[1;31mNameError\u001b[0m                                 Traceback (most recent call last)",
      "\u001b[1;32mf:\\OneDrive - Instituto Superior de Engenharia do Porto\\6 - MEEC\\2A 2S TEDI\\TEDI - Image Classification\\CNN Example 2 - Cats vs Dogs\\machinelearningmastery.ipynb Cell 5\u001b[0m in \u001b[0;36m<cell line: 2>\u001b[1;34m()\u001b[0m\n\u001b[0;32m      <a href='vscode-notebook-cell:/f%3A/OneDrive%20-%20Instituto%20Superior%20de%20Engenharia%20do%20Porto/6%20-%20MEEC/2A%202S%20TEDI/TEDI%20-%20Image%20Classification/CNN%20Example%202%20-%20Cats%20vs%20Dogs/machinelearningmastery.ipynb#W4sZmlsZQ%3D%3D?line=0'>1</a>\u001b[0m \u001b[39m# entry point, run the test harness\u001b[39;00m\n\u001b[1;32m----> <a href='vscode-notebook-cell:/f%3A/OneDrive%20-%20Instituto%20Superior%20de%20Engenharia%20do%20Porto/6%20-%20MEEC/2A%202S%20TEDI/TEDI%20-%20Image%20Classification/CNN%20Example%202%20-%20Cats%20vs%20Dogs/machinelearningmastery.ipynb#W4sZmlsZQ%3D%3D?line=1'>2</a>\u001b[0m run_test_harness()\n",
      "\u001b[1;32mf:\\OneDrive - Instituto Superior de Engenharia do Porto\\6 - MEEC\\2A 2S TEDI\\TEDI - Image Classification\\CNN Example 2 - Cats vs Dogs\\machinelearningmastery.ipynb Cell 5\u001b[0m in \u001b[0;36mrun_test_harness\u001b[1;34m()\u001b[0m\n\u001b[0;32m      <a href='vscode-notebook-cell:/f%3A/OneDrive%20-%20Instituto%20Superior%20de%20Engenharia%20do%20Porto/6%20-%20MEEC/2A%202S%20TEDI/TEDI%20-%20Image%20Classification/CNN%20Example%202%20-%20Cats%20vs%20Dogs/machinelearningmastery.ipynb#W4sZmlsZQ%3D%3D?line=1'>2</a>\u001b[0m \u001b[39mdef\u001b[39;00m \u001b[39mrun_test_harness\u001b[39m():\n\u001b[0;32m      <a href='vscode-notebook-cell:/f%3A/OneDrive%20-%20Instituto%20Superior%20de%20Engenharia%20do%20Porto/6%20-%20MEEC/2A%202S%20TEDI/TEDI%20-%20Image%20Classification/CNN%20Example%202%20-%20Cats%20vs%20Dogs/machinelearningmastery.ipynb#W4sZmlsZQ%3D%3D?line=2'>3</a>\u001b[0m \t\u001b[39m# define model\u001b[39;00m\n\u001b[1;32m----> <a href='vscode-notebook-cell:/f%3A/OneDrive%20-%20Instituto%20Superior%20de%20Engenharia%20do%20Porto/6%20-%20MEEC/2A%202S%20TEDI/TEDI%20-%20Image%20Classification/CNN%20Example%202%20-%20Cats%20vs%20Dogs/machinelearningmastery.ipynb#W4sZmlsZQ%3D%3D?line=3'>4</a>\u001b[0m \tmodel \u001b[39m=\u001b[39m define_model()\n\u001b[0;32m      <a href='vscode-notebook-cell:/f%3A/OneDrive%20-%20Instituto%20Superior%20de%20Engenharia%20do%20Porto/6%20-%20MEEC/2A%202S%20TEDI/TEDI%20-%20Image%20Classification/CNN%20Example%202%20-%20Cats%20vs%20Dogs/machinelearningmastery.ipynb#W4sZmlsZQ%3D%3D?line=4'>5</a>\u001b[0m \t\u001b[39m# create data generator\u001b[39;00m\n\u001b[0;32m      <a href='vscode-notebook-cell:/f%3A/OneDrive%20-%20Instituto%20Superior%20de%20Engenharia%20do%20Porto/6%20-%20MEEC/2A%202S%20TEDI/TEDI%20-%20Image%20Classification/CNN%20Example%202%20-%20Cats%20vs%20Dogs/machinelearningmastery.ipynb#W4sZmlsZQ%3D%3D?line=5'>6</a>\u001b[0m \tdatagen \u001b[39m=\u001b[39m ImageDataGenerator(featurewise_center\u001b[39m=\u001b[39m\u001b[39mTrue\u001b[39;00m)\n",
      "\u001b[1;32mf:\\OneDrive - Instituto Superior de Engenharia do Porto\\6 - MEEC\\2A 2S TEDI\\TEDI - Image Classification\\CNN Example 2 - Cats vs Dogs\\machinelearningmastery.ipynb Cell 5\u001b[0m in \u001b[0;36mdefine_model\u001b[1;34m()\u001b[0m\n\u001b[0;32m     <a href='vscode-notebook-cell:/f%3A/OneDrive%20-%20Instituto%20Superior%20de%20Engenharia%20do%20Porto/6%20-%20MEEC/2A%202S%20TEDI/TEDI%20-%20Image%20Classification/CNN%20Example%202%20-%20Cats%20vs%20Dogs/machinelearningmastery.ipynb#W4sZmlsZQ%3D%3D?line=12'>13</a>\u001b[0m model \u001b[39m=\u001b[39m Model(inputs\u001b[39m=\u001b[39mmodel\u001b[39m.\u001b[39minputs, outputs\u001b[39m=\u001b[39moutput)\n\u001b[0;32m     <a href='vscode-notebook-cell:/f%3A/OneDrive%20-%20Instituto%20Superior%20de%20Engenharia%20do%20Porto/6%20-%20MEEC/2A%202S%20TEDI/TEDI%20-%20Image%20Classification/CNN%20Example%202%20-%20Cats%20vs%20Dogs/machinelearningmastery.ipynb#W4sZmlsZQ%3D%3D?line=13'>14</a>\u001b[0m \u001b[39m# compile model\u001b[39;00m\n\u001b[1;32m---> <a href='vscode-notebook-cell:/f%3A/OneDrive%20-%20Instituto%20Superior%20de%20Engenharia%20do%20Porto/6%20-%20MEEC/2A%202S%20TEDI/TEDI%20-%20Image%20Classification/CNN%20Example%202%20-%20Cats%20vs%20Dogs/machinelearningmastery.ipynb#W4sZmlsZQ%3D%3D?line=14'>15</a>\u001b[0m opt \u001b[39m=\u001b[39m tf\u001b[39m.\u001b[39mkeras\u001b[39m.\u001b[39moptimizers\u001b[39m.\u001b[39mSGD(lr\u001b[39m=\u001b[39m\u001b[39m0.001\u001b[39m, momentum\u001b[39m=\u001b[39m\u001b[39m0.9\u001b[39m)\n\u001b[0;32m     <a href='vscode-notebook-cell:/f%3A/OneDrive%20-%20Instituto%20Superior%20de%20Engenharia%20do%20Porto/6%20-%20MEEC/2A%202S%20TEDI/TEDI%20-%20Image%20Classification/CNN%20Example%202%20-%20Cats%20vs%20Dogs/machinelearningmastery.ipynb#W4sZmlsZQ%3D%3D?line=15'>16</a>\u001b[0m model\u001b[39m.\u001b[39mcompile(optimizer\u001b[39m=\u001b[39mopt, loss\u001b[39m=\u001b[39m\u001b[39m'\u001b[39m\u001b[39mbinary_crossentropy\u001b[39m\u001b[39m'\u001b[39m, metrics\u001b[39m=\u001b[39m[\u001b[39m'\u001b[39m\u001b[39maccuracy\u001b[39m\u001b[39m'\u001b[39m])\n\u001b[0;32m     <a href='vscode-notebook-cell:/f%3A/OneDrive%20-%20Instituto%20Superior%20de%20Engenharia%20do%20Porto/6%20-%20MEEC/2A%202S%20TEDI/TEDI%20-%20Image%20Classification/CNN%20Example%202%20-%20Cats%20vs%20Dogs/machinelearningmastery.ipynb#W4sZmlsZQ%3D%3D?line=16'>17</a>\u001b[0m \u001b[39mreturn\u001b[39;00m model\n",
      "\u001b[1;31mNameError\u001b[0m: name 'tf' is not defined"
     ]
    }
   ],
   "source": [
    " \n",
    "# entry point, run the test harness\n",
    "run_test_harness()"
   ]
  }
 ],
 "metadata": {
  "kernelspec": {
   "display_name": "Python 3.10.1 64-bit",
   "language": "python",
   "name": "python3"
  },
  "language_info": {
   "codemirror_mode": {
    "name": "ipython",
    "version": 3
   },
   "file_extension": ".py",
   "mimetype": "text/x-python",
   "name": "python",
   "nbconvert_exporter": "python",
   "pygments_lexer": "ipython3",
   "version": "3.10.1"
  },
  "orig_nbformat": 4,
  "vscode": {
   "interpreter": {
    "hash": "26de051ba29f2982a8de78e945f0abaf191376122a1563185a90213a26c5da77"
   }
  }
 },
 "nbformat": 4,
 "nbformat_minor": 2
}
