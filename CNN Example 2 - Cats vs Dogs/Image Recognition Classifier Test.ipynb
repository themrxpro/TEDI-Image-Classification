{
 "cells": [
  {
   "cell_type": "code",
   "execution_count": 1,
   "metadata": {},
   "outputs": [
    {
     "ename": "NameError",
     "evalue": "name 'tf' is not defined",
     "output_type": "error",
     "traceback": [
      "\u001b[1;31m---------------------------------------------------------------------------\u001b[0m",
      "\u001b[1;31mNameError\u001b[0m                                 Traceback (most recent call last)",
      "\u001b[1;32mf:\\OneDrive - Instituto Superior de Engenharia do Porto\\MEEC\\2A 2S TEDI\\TEDI - Image Classification\\CNN Example 1\\Image Recognition Classifier Test.ipynb Cell 1'\u001b[0m in \u001b[0;36m<cell line: 4>\u001b[1;34m()\u001b[0m\n\u001b[0;32m      <a href='vscode-notebook-cell:/f%3A/OneDrive%20-%20Instituto%20Superior%20de%20Engenharia%20do%20Porto/MEEC/2A%202S%20TEDI/TEDI%20-%20Image%20Classification/CNN%20Example%201/Image%20Recognition%20Classifier%20Test.ipynb#ch0000000?line=0'>1</a>\u001b[0m \u001b[39m# Guide from:\u001b[39;00m\n\u001b[0;32m      <a href='vscode-notebook-cell:/f%3A/OneDrive%20-%20Instituto%20Superior%20de%20Engenharia%20do%20Porto/MEEC/2A%202S%20TEDI/TEDI%20-%20Image%20Classification/CNN%20Example%201/Image%20Recognition%20Classifier%20Test.ipynb#ch0000000?line=1'>2</a>\u001b[0m \u001b[39m#   https://medium.com/nybles/create-your-first-image-recognition-classifier-using-cnn-keras-and-tensorflow-backend-6eaab98d14dd\u001b[39;00m\n\u001b[1;32m----> <a href='vscode-notebook-cell:/f%3A/OneDrive%20-%20Instituto%20Superior%20de%20Engenharia%20do%20Porto/MEEC/2A%202S%20TEDI/TEDI%20-%20Image%20Classification/CNN%20Example%201/Image%20Recognition%20Classifier%20Test.ipynb#ch0000000?line=3'>4</a>\u001b[0m physical_devices \u001b[39m=\u001b[39m tf\u001b[39m.\u001b[39mconfig\u001b[39m.\u001b[39mlist_physical_devices(\u001b[39m'\u001b[39m\u001b[39mGPU\u001b[39m\u001b[39m'\u001b[39m)\n\u001b[0;32m      <a href='vscode-notebook-cell:/f%3A/OneDrive%20-%20Instituto%20Superior%20de%20Engenharia%20do%20Porto/MEEC/2A%202S%20TEDI/TEDI%20-%20Image%20Classification/CNN%20Example%201/Image%20Recognition%20Classifier%20Test.ipynb#ch0000000?line=4'>5</a>\u001b[0m tf\u001b[39m.\u001b[39mconfig\u001b[39m.\u001b[39mexperimental\u001b[39m.\u001b[39mset_memory_growth(physical_devices[\u001b[39m0\u001b[39m], \u001b[39mTrue\u001b[39;00m)\n\u001b[0;32m      <a href='vscode-notebook-cell:/f%3A/OneDrive%20-%20Instituto%20Superior%20de%20Engenharia%20do%20Porto/MEEC/2A%202S%20TEDI/TEDI%20-%20Image%20Classification/CNN%20Example%201/Image%20Recognition%20Classifier%20Test.ipynb#ch0000000?line=6'>7</a>\u001b[0m \u001b[39m# Convolutional Neural Network\u001b[39;00m\n\u001b[0;32m      <a href='vscode-notebook-cell:/f%3A/OneDrive%20-%20Instituto%20Superior%20de%20Engenharia%20do%20Porto/MEEC/2A%202S%20TEDI/TEDI%20-%20Image%20Classification/CNN%20Example%201/Image%20Recognition%20Classifier%20Test.ipynb#ch0000000?line=7'>8</a>\u001b[0m \u001b[39m# Importing the Keras libraries and packages\u001b[39;00m\n",
      "\u001b[1;31mNameError\u001b[0m: name 'tf' is not defined"
     ]
    }
   ],
   "source": [
    "\n",
    "# Guide from:\n",
    "#   https://medium.com/nybles/create-your-first-image-recognition-classifier-using-cnn-keras-and-tensorflow-backend-6eaab98d14dd\n",
    "\n",
    "\n",
    "# Convolutional Neural Network\n",
    "# Importing the Keras libraries and packages\n",
    "from multiprocessing import pool\n",
    "from pickletools import optimize\n",
    "from tensorflow.keras.models import Sequential\n",
    "from tensorflow.keras.layers import Convolution2D\n",
    "from tensorflow.keras.layers import MaxPooling2D\n",
    "from tensorflow.keras.layers import Flatten\n",
    "from tensorflow.keras.layers import Dense\n",
    "\n",
    "from tensorflow import config\n",
    "physical_devices = list_physical_devices('GPU')\n",
    "experimental.set_memory_growth(physical_devices[0], True)\n"
   ]
  },
  {
   "cell_type": "code",
   "execution_count": null,
   "metadata": {},
   "outputs": [],
   "source": [
    "# Initialize the CNN\n",
    "classifier = Sequential()\n",
    "\n",
    "# Step 1 - Convolution\n",
    "classifier.add(Convolution2D(32, 3, 3, input_shape = (64,64,3), activation = 'relu'))\n",
    "\n",
    "# Step 2 - Pooling\n",
    "classifier.add(MaxPooling2D(pool_size = (2, 2)))\n",
    "\n",
    "# Step 3 - Flattening\n",
    "classifier.add(Flatten())\n",
    "\n",
    "# Step 4 - Full Connection\n",
    "classifier.add(Dense(128, activation = 'relu'))\n",
    "classifier.add(Dense(1, activation = 'sigmoid'))\n",
    "\n",
    "# Compiling the CNN\n",
    "classifier.compile(optimizer = 'adam', loss = 'binary_crossentropy', metrics = ['accuracy'])"
   ]
  },
  {
   "cell_type": "code",
   "execution_count": null,
   "metadata": {},
   "outputs": [],
   "source": [
    "# Part 2 - Fitting the CNN to the images\n",
    "from tensorflow.keras.preprocessing.image import ImageDataGenerator\n",
    "\n",
    "train_datagen = ImageDataGenerator(\n",
    "    rescale=1./255,\n",
    "    shear_range=0.2,\n",
    "    zoom_range=0.2,\n",
    "    horizontal_flip=True)\n",
    "\n",
    "test_datagen = ImageDataGenerator(rescale=1./255)"
   ]
  },
  {
   "cell_type": "code",
   "execution_count": null,
   "metadata": {},
   "outputs": [],
   "source": [
    "#temp\n",
    "print(len(test_datagen))"
   ]
  },
  {
   "cell_type": "code",
   "execution_count": null,
   "metadata": {},
   "outputs": [],
   "source": [
    "\n",
    "training_set = train_datagen.flow_from_directory(\n",
    "    'Dataset/training_set',\n",
    "    target_size=(64, 64),\n",
    "    batch_size=32,\n",
    "    class_mode='binary')\n",
    "\n",
    "test_set = train_datagen.flow_from_directory(\n",
    "    'Dataset/test_set',\n",
    "    target_size=(64, 64),\n",
    "    batch_size=32,\n",
    "    class_mode='binary')"
   ]
  },
  {
   "cell_type": "code",
   "execution_count": null,
   "metadata": {},
   "outputs": [],
   "source": [
    "from IPython.display import display\n",
    "from PIL import Image\n",
    "\n",
    "classifier.fit(\n",
    "    training_set,\n",
    "    #steps_per_epoch=8000,\n",
    "    epochs=10,\n",
    "    validation_data=test_set,\n",
    "    validation_steps=800)"
   ]
  },
  {
   "cell_type": "code",
   "execution_count": null,
   "metadata": {},
   "outputs": [],
   "source": [
    "\n",
    "import numpy as np\n",
    "from keras.preprocessing import image\n",
    "test_image = image.load_img('random.jpg', target_size=(64,64))\n",
    "test_image = image.img_to_array(test_image)\n",
    "test_image = np.expand_dims(test_image, axis = 0)\n",
    "if result[0][0] >= 0.5:\n",
    "    prediction= 'dog'\n",
    "else:\n",
    "    prediction = 'cat'\n",
    "print(prediction)\n",
    "print(\"\\nEnd of Program !\")"
   ]
  }
 ],
 "metadata": {
  "interpreter": {
   "hash": "26de051ba29f2982a8de78e945f0abaf191376122a1563185a90213a26c5da77"
  },
  "kernelspec": {
   "display_name": "Python 3.10.1 64-bit",
   "language": "python",
   "name": "python3"
  },
  "language_info": {
   "codemirror_mode": {
    "name": "ipython",
    "version": 3
   },
   "file_extension": ".py",
   "mimetype": "text/x-python",
   "name": "python",
   "nbconvert_exporter": "python",
   "pygments_lexer": "ipython3",
   "version": "3.10.1"
  },
  "orig_nbformat": 4
 },
 "nbformat": 4,
 "nbformat_minor": 2
}
